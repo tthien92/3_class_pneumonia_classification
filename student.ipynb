{
 "cells": [
  {
   "cell_type": "markdown",
   "metadata": {},
   "source": [
    "## Final Project Submission\n",
    "\n",
    "Please fill out:\n",
    "* Student name: Thien Nguyen \n",
    "* Student pace: **self paced** / part time / full time\n",
    "* Scheduled project review date/time: \n",
    "* Instructor name: Eli Thomas\n",
    "* Blog post URL: https://thiennguyen.blog/2019/09/21/classifying-different-types-of-pneumonia-with-deep-learning/\n"
   ]
  },
  {
   "cell_type": "markdown",
   "metadata": {},
   "source": [
    "# Module 4 Final Project: Pnuemonia Detection via Deep Learning"
   ]
  },
  {
   "cell_type": "markdown",
   "metadata": {},
   "source": [
    "### Background\n",
    "\n",
    "Image classification and recognition is one of the most powerful applications of deep learning, and its usage is significantly important in the medical field where the slightest human error can put lives at risk. While advances in imaging technology have made it easier for medical professionls to detect certain ailments, these advances nonetheless rely on the expertise of the person at hand which is still prone to human error (e.g. due to stress or fatigue). Even doctors make mistakes.Therefore, using deep learning to mitigate human error can have a profound impact on the medical industry.\n",
    "\n",
    "This project specifically focuses on 5,863 x-ray scans obtained from patients in Guangzhou, China. The dataset was pulled from kaggle uploaded by user Paul Mooney. The following details accompanied the dataset:\n",
    "\n",
    ">\"Chest X-ray images (anterior-posterior) were selected from retrospective cohorts of pediatric patients of one to five years old from Guangzhou Women and Children’s Medical Center, Guangzhou. All chest X-ray imaging was performed as part of patients’ routine clinical care.\"\n",
    "\n",
    "While many kernels on this dataset focuses on a simple binary classification between *normal* and *pneumonia* patients, this investigation will build a deep learning model to classify between three categories--normal, bacterial, and viral pneumonia. Both a self-made and a pre-trained model will be used along with optimization strategies such as feature extraction and freezing. "
   ]
  },
  {
   "cell_type": "markdown",
   "metadata": {},
   "source": [
    "## Part 1. Gathering, Scrubbing, and Exploring Data"
   ]
  },
  {
   "cell_type": "code",
   "execution_count": 1,
   "metadata": {},
   "outputs": [
    {
     "name": "stderr",
     "output_type": "stream",
     "text": [
      "Using TensorFlow backend.\n"
     ]
    }
   ],
   "source": [
    "#Import necessary libraries which can be updated retroactively\n",
    "\n",
    "import pandas as pd\n",
    "import numpy as np\n",
    "import tensorflow as tf\n",
    "import matplotlib.pyplot as plt\n",
    "%matplotlib inline\n",
    "import keras\n",
    "from keras.preprocessing.sequence import pad_sequences\n",
    "from keras.preprocessing.image import ImageDataGenerator\n",
    "from keras.layers import Input, Dense, LSTM, Embedding\n",
    "from keras.layers import Dropout, Activation, Bidirectional, GlobalMaxPool1D\n",
    "from keras.models import Model\n",
    "from keras import initializers, regularizers, constraints, optimizers, layers, models\n",
    "from keras.preprocessing import text, sequence\n",
    "from keras.callbacks import ModelCheckpoint, EarlyStopping\n",
    "import os, shutil\n",
    "from glob import glob\n",
    "import fileinput\n",
    "from collections import defaultdict\n",
    "import numpy as np\n",
    "import os, shutil\n",
    "from keras.utils import to_categorical\n",
    "from keras.utils.vis_utils import plot_model\n",
    "from keras.applications import VGG19, inception_v3\n",
    "from sklearn.metrics import confusion_matrix\n",
    "import itertools\n",
    "import random as rn\n",
    "import pydot\n",
    "import graphviz"
   ]
  },
  {
   "cell_type": "markdown",
   "metadata": {},
   "source": [
    "## 1. Gathering and Rearranging Data\n",
    "\n",
    "Although the kaggle dataset is already nicely divided into train, test, and validation directories, the pneumonia directory contains X-ray images of both bacterial and viral infections. This would be ok for binary classification, but since our model will try to classify between three groups, the directories should match as well."
   ]
  },
  {
   "cell_type": "code",
   "execution_count": 28,
   "metadata": {},
   "outputs": [],
   "source": [
    "directory_list = ['train', 'test','val']\n",
    "types = ['bacteria', 'virus']\n",
    "\n",
    "\n",
    "#creates a new directory for each type of pneumonia\n",
    "for directory in directory_list:\n",
    "    current_directory = directory + '/'\n",
    "    current_dirList = os.listdir(current_directory)\n",
    "    \n",
    "    for infection in types:\n",
    "        new_dir = os.path.join(current_directory +'/'+infection)\n",
    "        os.mkdir(new_dir)\n",
    "        \n",
    "        for jpeg in current_dirList:\n",
    "            if infection in jpeg:\n",
    "                filename = jpeg\n",
    "                origin = os.path.join(current_directory +'/' + filename)\n",
    "                destination = os.path.join(new_dir +'/' +filename)\n",
    "                shutil.copy(origin, destination)\n",
    "            else:\n",
    "                pass\n",
    "    \n"
   ]
  },
  {
   "cell_type": "markdown",
   "metadata": {},
   "source": [
    "Although it is nice that the folders are already divided into train, test, and validation sets, it's always good practice to examine data."
   ]
  },
  {
   "cell_type": "code",
   "execution_count": 37,
   "metadata": {},
   "outputs": [
    {
     "name": "stdout",
     "output_type": "stream",
     "text": [
      "Total images in train/normal folder is 1341\n",
      "Total images in train/bacteria folder is 2530\n",
      "Total images in train/virus folder is 1345\n",
      "\n",
      "\n",
      "Total images in train/normal folder is 8\n",
      "Total images in train/bacteria folder is 8\n",
      "Total images in val/virus folder is 0\n"
     ]
    }
   ],
   "source": [
    "#check to see how many files are in each directory\n",
    "train_dir = 'train/normal'\n",
    "print('Total images in train/normal folder is {}'.format(len(os.listdir(train_dir))))\n",
    "\n",
    "train_dir = 'train/bacteria'\n",
    "print('Total images in train/bacteria folder is {}'.format(len(os.listdir(train_dir))))\n",
    "\n",
    "train_dir = 'train/virus'\n",
    "print('Total images in train/virus folder is {}'.format(len(os.listdir(train_dir))))\n",
    "\n",
    "print('\\n')\n",
    "\n",
    "train_dir = 'val/normal'\n",
    "print('Total images in train/normal folder is {}'.format(len(os.listdir(train_dir))))\n",
    "\n",
    "train_dir = 'val/bacteria'\n",
    "print('Total images in train/bacteria folder is {}'.format(len(os.listdir(train_dir))))\n",
    "\n",
    "train_dir = 'val/virus'\n",
    "print('Total images in val/virus folder is {}'.format(len(os.listdir(train_dir))))\n",
    "\n"
   ]
  },
  {
   "cell_type": "markdown",
   "metadata": {},
   "source": [
    "Given the number of images in the training data, the validation data seems a bit scarce. To increase the number of validation files a bit, especially for the virus folder, every 10th image from the train directory will be moved to the validation directory. "
   ]
  },
  {
   "cell_type": "code",
   "execution_count": 43,
   "metadata": {},
   "outputs": [],
   "source": [
    "folders = ['normal', 'bacteria','virus']\n",
    "train = 'train/'\n",
    "val = 'val/'\n",
    "\n",
    "#Move about 10% of the files from the train folder to the validation folder\n",
    "for folder in folders:    \n",
    "    current_directory = train + folder\n",
    "    dst_directory = val+folder\n",
    "    \n",
    "    current_dirList = os.listdir(current_directory)\n",
    "    \n",
    "    for img_count, img in enumerate(current_dirList):\n",
    "        if img_count % 10 ==0:\n",
    "            origin = os.path.join(current_directory + '/' + img)\n",
    "            destination = os.path.join(dst_directory+'/'+img)\n",
    "            shutil.move(origin, destination)"
   ]
  },
  {
   "cell_type": "code",
   "execution_count": 44,
   "metadata": {},
   "outputs": [
    {
     "name": "stdout",
     "output_type": "stream",
     "text": [
      "Total images in train/normal folder is 1206\n",
      "Total images in train/bacteria folder is 2277\n",
      "Total images in train/virus folder is 1210\n",
      "\n",
      "\n",
      "Total images in train/normal folder is 143\n",
      "Total images in train/bacteria folder is 261\n",
      "Total images in val/virus folder is 135\n"
     ]
    }
   ],
   "source": [
    "#Double check to make sure\n",
    "\n",
    "train_dir = 'train/normal'\n",
    "print('Total images in train/normal folder is {}'.format(len(os.listdir(train_dir))))\n",
    "\n",
    "train_dir = 'train/bacteria'\n",
    "print('Total images in train/bacteria folder is {}'.format(len(os.listdir(train_dir))))\n",
    "\n",
    "train_dir = 'train/virus'\n",
    "print('Total images in train/virus folder is {}'.format(len(os.listdir(train_dir))))\n",
    "\n",
    "print('\\n')\n",
    "\n",
    "train_dir = 'val/normal'\n",
    "print('Total images in train/normal folder is {}'.format(len(os.listdir(train_dir))))\n",
    "\n",
    "train_dir = 'val/bacteria'\n",
    "print('Total images in train/bacteria folder is {}'.format(len(os.listdir(train_dir))))\n",
    "\n",
    "train_dir = 'val/virus'\n",
    "print('Total images in val/virus folder is {}'.format(len(os.listdir(train_dir))))\n"
   ]
  },
  {
   "cell_type": "markdown",
   "metadata": {},
   "source": [
    "Given that there are over 1000 images in the train directory, a roughly 90/10 split should be fine for validation."
   ]
  },
  {
   "cell_type": "markdown",
   "metadata": {},
   "source": [
    "## 2. Modeling via Deep Learning\n",
    "### a. Modeling with a Basic CNN "
   ]
  },
  {
   "cell_type": "code",
   "execution_count": 6,
   "metadata": {},
   "outputs": [
    {
     "name": "stdout",
     "output_type": "stream",
     "text": [
      "Found 4693 images belonging to 3 classes.\n",
      "Found 539 images belonging to 3 classes.\n",
      "Found 624 images belonging to 3 classes.\n"
     ]
    }
   ],
   "source": [
    "#directory names\n",
    "train_dir = 'train/'\n",
    "test_dir = 'test/'\n",
    "val_dir = 'val/'\n",
    "\n",
    "# All images will be rescaled by 1./255\n",
    "test_datagen = ImageDataGenerator(rescale=1./255)\n",
    "val_datagen = ImageDataGenerator(rescale = 1./255)\n",
    "train_datagen = ImageDataGenerator(rescale=1./255)\n",
    "\n",
    "#set up generators\n",
    "train_generator = train_datagen.flow_from_directory(\n",
    "        train_dir,\n",
    "        target_size=(150, 150),\n",
    "        batch_size=20,\n",
    "        class_mode='categorical')\n",
    "\n",
    "validation_generator = val_datagen.flow_from_directory(\n",
    "        val_dir,\n",
    "        target_size=(150, 150),\n",
    "        batch_size=20,\n",
    "        class_mode='categorical')\n",
    "\n",
    "test_generator = test_datagen.flow_from_directory(\n",
    "        test_dir,\n",
    "        target_size=(150, 150),\n",
    "        batch_size=20,\n",
    "        class_mode='categorical',\n",
    "        shuffle=False)"
   ]
  },
  {
   "cell_type": "markdown",
   "metadata": {},
   "source": [
    "Even though there are substantially better pretrained models on imagenet, this first model will a very basic CNN with alternating layers of convolutional and pooling layers"
   ]
  },
  {
   "cell_type": "code",
   "execution_count": 2,
   "metadata": {},
   "outputs": [],
   "source": [
    "#saves the best model weights based on the loss value; checkpoint path will be renamed for each different model if used\n",
    "checkpoints_path = 'weights_base.best.hdf5'\n",
    "checkpoint = ModelCheckpoint(checkpoints_path, monitor='val_loss', verbose=1, save_best_only=True, mode='min')\n",
    "\n",
    "#stops the model if model does not improve after 10 epochs\n",
    "early_stopping = EarlyStopping(monitor='val_loss', mode='min', patience=10)\n",
    "\n",
    "callbacks = [checkpoint, early_stopping]"
   ]
  },
  {
   "cell_type": "code",
   "execution_count": 3,
   "metadata": {},
   "outputs": [
    {
     "name": "stdout",
     "output_type": "stream",
     "text": [
      "WARNING:tensorflow:From C:\\Users\\Thien Nguyen\\Anaconda3\\lib\\site-packages\\tensorflow\\python\\framework\\op_def_library.py:263: colocate_with (from tensorflow.python.framework.ops) is deprecated and will be removed in a future version.\n",
      "Instructions for updating:\n",
      "Colocations handled automatically by placer.\n"
     ]
    }
   ],
   "source": [
    "#create the model with Sequential\n",
    "cnn_model = models.Sequential()\n",
    "cnn_model.add(layers.Conv2D(32, (3, 3), activation='relu',\n",
    "                        input_shape=(150 ,150,  3)))\n",
    "cnn_model.add(layers.MaxPooling2D((2, 2)))\n",
    "\n",
    "cnn_model.add(layers.Conv2D(64, (4, 4), activation='relu'))\n",
    "cnn_model.add(layers.MaxPooling2D((2, 2)))\n",
    "\n",
    "cnn_model.add(layers.Conv2D(128, (3, 3), activation='relu'))\n",
    "cnn_model.add(layers.MaxPooling2D((2, 2)))\n",
    "\n",
    "cnn_model.add(layers.Flatten())\n",
    "cnn_model.add(layers.Dense(256, activation='relu'))\n",
    "\n",
    "cnn_model.add(layers.Dense(3, activation='softmax'))"
   ]
  },
  {
   "cell_type": "code",
   "execution_count": 4,
   "metadata": {},
   "outputs": [
    {
     "name": "stdout",
     "output_type": "stream",
     "text": [
      "_________________________________________________________________\n",
      "Layer (type)                 Output Shape              Param #   \n",
      "=================================================================\n",
      "conv2d_1 (Conv2D)            (None, 148, 148, 32)      896       \n",
      "_________________________________________________________________\n",
      "max_pooling2d_1 (MaxPooling2 (None, 74, 74, 32)        0         \n",
      "_________________________________________________________________\n",
      "conv2d_2 (Conv2D)            (None, 71, 71, 64)        32832     \n",
      "_________________________________________________________________\n",
      "max_pooling2d_2 (MaxPooling2 (None, 35, 35, 64)        0         \n",
      "_________________________________________________________________\n",
      "conv2d_3 (Conv2D)            (None, 33, 33, 128)       73856     \n",
      "_________________________________________________________________\n",
      "max_pooling2d_3 (MaxPooling2 (None, 16, 16, 128)       0         \n",
      "_________________________________________________________________\n",
      "flatten_1 (Flatten)          (None, 32768)             0         \n",
      "_________________________________________________________________\n",
      "dense_1 (Dense)              (None, 256)               8388864   \n",
      "_________________________________________________________________\n",
      "dense_2 (Dense)              (None, 3)                 771       \n",
      "=================================================================\n",
      "Total params: 8,497,219\n",
      "Trainable params: 8,497,219\n",
      "Non-trainable params: 0\n",
      "_________________________________________________________________\n"
     ]
    }
   ],
   "source": [
    "#compiles the model\n",
    "cnn_model.compile(loss='categorical_crossentropy',\n",
    "              optimizer=\"adam\",\n",
    "              metrics=['acc'])\n",
    "\n",
    "cnn_model.summary()"
   ]
  },
  {
   "cell_type": "markdown",
   "metadata": {},
   "source": [
    "There are about 8.5 million parameters, which seems like a good amount for our basic model. Next, we'll fit the model to the data and evaluate it with the test data. This model will only utilize 10 epoch with 10 steps per epoch to save time on run time. "
   ]
  },
  {
   "cell_type": "code",
   "execution_count": 7,
   "metadata": {},
   "outputs": [
    {
     "name": "stdout",
     "output_type": "stream",
     "text": [
      "WARNING:tensorflow:From C:\\Users\\Thien Nguyen\\Anaconda3\\lib\\site-packages\\tensorflow\\python\\ops\\math_ops.py:3066: to_int32 (from tensorflow.python.ops.math_ops) is deprecated and will be removed in a future version.\n",
      "Instructions for updating:\n",
      "Use tf.cast instead.\n",
      "Epoch 1/20\n",
      "10/10 [==============================] - 15s 2s/step - loss: 1.5422 - acc: 0.3550 - val_loss: 1.1011 - val_acc: 0.4675\n",
      "Epoch 2/20\n",
      "10/10 [==============================] - 13s 1s/step - loss: 1.0593 - acc: 0.4950 - val_loss: 1.0592 - val_acc: 0.5063\n",
      "Epoch 3/20\n",
      "10/10 [==============================] - 13s 1s/step - loss: 1.0608 - acc: 0.4750 - val_loss: 1.0014 - val_acc: 0.4712\n",
      "Epoch 4/20\n",
      "10/10 [==============================] - 13s 1s/step - loss: 0.9654 - acc: 0.5450 - val_loss: 0.8531 - val_acc: 0.5800\n",
      "Epoch 5/20\n",
      "10/10 [==============================] - 14s 1s/step - loss: 0.7629 - acc: 0.7050 - val_loss: 0.7123 - val_acc: 0.6767\n",
      "Epoch 6/20\n",
      "10/10 [==============================] - 14s 1s/step - loss: 0.6435 - acc: 0.7700 - val_loss: 0.8752 - val_acc: 0.6090\n",
      "Epoch 7/20\n",
      "10/10 [==============================] - 13s 1s/step - loss: 0.8535 - acc: 0.6450 - val_loss: 0.7572 - val_acc: 0.7143\n",
      "Epoch 8/20\n",
      "10/10 [==============================] - 13s 1s/step - loss: 0.6899 - acc: 0.6950 - val_loss: 0.7115 - val_acc: 0.7175\n",
      "Epoch 9/20\n",
      "10/10 [==============================] - 13s 1s/step - loss: 0.7829 - acc: 0.6700 - val_loss: 0.6282 - val_acc: 0.7143\n",
      "Epoch 10/20\n",
      "10/10 [==============================] - 13s 1s/step - loss: 0.6218 - acc: 0.7400 - val_loss: 0.5407 - val_acc: 0.7870\n",
      "Epoch 11/20\n",
      "10/10 [==============================] - 13s 1s/step - loss: 0.6591 - acc: 0.7200 - val_loss: 0.5505 - val_acc: 0.7444\n",
      "Epoch 12/20\n",
      "10/10 [==============================] - 13s 1s/step - loss: 0.4978 - acc: 0.7700 - val_loss: 0.5931 - val_acc: 0.7150\n",
      "Epoch 13/20\n",
      "10/10 [==============================] - 13s 1s/step - loss: 0.6650 - acc: 0.7200 - val_loss: 0.5148 - val_acc: 0.7744\n",
      "Epoch 14/20\n",
      "10/10 [==============================] - 13s 1s/step - loss: 0.5800 - acc: 0.7800 - val_loss: 0.7609 - val_acc: 0.6967\n",
      "Epoch 15/20\n",
      "10/10 [==============================] - 13s 1s/step - loss: 0.4981 - acc: 0.7850 - val_loss: 0.5420 - val_acc: 0.7895\n",
      "Epoch 16/20\n",
      "10/10 [==============================] - 13s 1s/step - loss: 0.5209 - acc: 0.7700 - val_loss: 0.5044 - val_acc: 0.7950\n",
      "Epoch 17/20\n",
      "10/10 [==============================] - 13s 1s/step - loss: 0.5366 - acc: 0.7950 - val_loss: 0.5512 - val_acc: 0.7594\n",
      "Epoch 18/20\n",
      "10/10 [==============================] - 13s 1s/step - loss: 0.5883 - acc: 0.7600 - val_loss: 0.5513 - val_acc: 0.7744\n",
      "Epoch 19/20\n",
      "10/10 [==============================] - 13s 1s/step - loss: 0.5829 - acc: 0.7450 - val_loss: 0.5567 - val_acc: 0.7318\n",
      "Epoch 20/20\n",
      "10/10 [==============================] - 13s 1s/step - loss: 0.5442 - acc: 0.7750 - val_loss: 0.5241 - val_acc: 0.7800\n"
     ]
    }
   ],
   "source": [
    "#fits the model\n",
    "cnn_history = cnn_model.fit_generator(\n",
    "      train_generator,\n",
    "      steps_per_epoch=10,\n",
    "      epochs=20,\n",
    "      validation_data=validation_generator,\n",
    "      validation_steps=20,\n",
    "    callbacks = [early_stopping])"
   ]
  },
  {
   "cell_type": "code",
   "execution_count": 19,
   "metadata": {},
   "outputs": [],
   "source": [
    "#Creates two graphs of training/validation accuracy and loss over each epoch\n",
    "def plot_acc_loss(history):\n",
    "    train_acc = history.history['acc']\n",
    "    val_acc = history.history['val_acc']\n",
    "    train_loss = history.history['loss']\n",
    "    val_loss = history.history['val_loss']\n",
    "    epch = range(1, len(train_acc) + 1)\n",
    "    plt.plot(epch, train_acc, 'g.', label='Training Accuracy')\n",
    "    plt.plot(epch, val_acc, 'g', label='Validation acc')\n",
    "    plt.title('Accuracy')\n",
    "    plt.legend()\n",
    "    plt.figure()\n",
    "    plt.plot(epch, train_loss, 'r.', label='Training loss')\n",
    "    plt.plot(epch, val_loss, 'r', label='Validation loss')\n",
    "    plt.title('Loss')\n",
    "    plt.legend()\n",
    "    plt.show()"
   ]
  },
  {
   "cell_type": "code",
   "execution_count": 51,
   "metadata": {},
   "outputs": [
    {
     "data": {
      "image/png": "[encoded data removed]",
      "text/plain": [
       "<Figure size 432x288 with 1 Axes>"
      ]
     },
     "metadata": {
      "needs_background": "light"
     },
     "output_type": "display_data"
    },
    {
     "data": {
      "image/png": "[encoded data removed]",
      "text/plain": [
       "<Figure size 432x288 with 1 Axes>"
      ]
     },
     "metadata": {
      "needs_background": "light"
     },
     "output_type": "display_data"
    }
   ],
   "source": [
    "plot_acc_loss(cnn_history)"
   ]
  },
  {
   "cell_type": "markdown",
   "metadata": {},
   "source": [
    "Both training and validation became more accurate over time and loss decreased as well. This means that the model did improve with each epoch without likely overfitting."
   ]
  },
  {
   "cell_type": "code",
   "execution_count": 12,
   "metadata": {},
   "outputs": [
    {
     "name": "stdout",
     "output_type": "stream",
     "text": [
      "test acc: 0.7571138149748246\n"
     ]
    }
   ],
   "source": [
    "#prints the model accuracy compared to the test data\n",
    "test_loss, test_acc = cnn_model.evaluate_generator(test_generator, steps=50)\n",
    "print('test acc:', test_acc)\n"
   ]
  },
  {
   "cell_type": "markdown",
   "metadata": {},
   "source": [
    "### Basic CNN Analysis\n",
    "With less than 10 layers, the model accomplished a 75.7% accuracy rate in making the correct diagnosis simply based on x-ray images. This is more than double the accuracy of chance, but still falls below acceptable standards for the medical industry. It is likely this model **can** be improved upon with more layers and more epochs, but for the sake of time, we'll rely on pretained models henceforth."
   ]
  },
  {
   "cell_type": "markdown",
   "metadata": {},
   "source": [
    "## 2b. Modeling with Pretrained Networks"
   ]
  },
  {
   "cell_type": "code",
   "execution_count": 354,
   "metadata": {},
   "outputs": [],
   "source": [
    "#load the pretrained model as the base\n",
    "cnn_base = VGG19(weights='imagenet',\n",
    "                  include_top=False,\n",
    "                  input_shape=(150, 150, 3))"
   ]
  },
  {
   "cell_type": "code",
   "execution_count": 355,
   "metadata": {},
   "outputs": [
    {
     "name": "stdout",
     "output_type": "stream",
     "text": [
      "_________________________________________________________________\n",
      "Layer (type)                 Output Shape              Param #   \n",
      "=================================================================\n",
      "input_15 (InputLayer)        (None, 150, 150, 3)       0         \n",
      "_________________________________________________________________\n",
      "block1_conv1 (Conv2D)        (None, 150, 150, 64)      1792      \n",
      "_________________________________________________________________\n",
      "block1_conv2 (Conv2D)        (None, 150, 150, 64)      36928     \n",
      "_________________________________________________________________\n",
      "block1_pool (MaxPooling2D)   (None, 75, 75, 64)        0         \n",
      "_________________________________________________________________\n",
      "block2_conv1 (Conv2D)        (None, 75, 75, 128)       73856     \n",
      "_________________________________________________________________\n",
      "block2_conv2 (Conv2D)        (None, 75, 75, 128)       147584    \n",
      "_________________________________________________________________\n",
      "block2_pool (MaxPooling2D)   (None, 37, 37, 128)       0         \n",
      "_________________________________________________________________\n",
      "block3_conv1 (Conv2D)        (None, 37, 37, 256)       295168    \n",
      "_________________________________________________________________\n",
      "block3_conv2 (Conv2D)        (None, 37, 37, 256)       590080    \n",
      "_________________________________________________________________\n",
      "block3_conv3 (Conv2D)        (None, 37, 37, 256)       590080    \n",
      "_________________________________________________________________\n",
      "block3_conv4 (Conv2D)        (None, 37, 37, 256)       590080    \n",
      "_________________________________________________________________\n",
      "block3_pool (MaxPooling2D)   (None, 18, 18, 256)       0         \n",
      "_________________________________________________________________\n",
      "block4_conv1 (Conv2D)        (None, 18, 18, 512)       1180160   \n",
      "_________________________________________________________________\n",
      "block4_conv2 (Conv2D)        (None, 18, 18, 512)       2359808   \n",
      "_________________________________________________________________\n",
      "block4_conv3 (Conv2D)        (None, 18, 18, 512)       2359808   \n",
      "_________________________________________________________________\n",
      "block4_conv4 (Conv2D)        (None, 18, 18, 512)       2359808   \n",
      "_________________________________________________________________\n",
      "block4_pool (MaxPooling2D)   (None, 9, 9, 512)         0         \n",
      "_________________________________________________________________\n",
      "block5_conv1 (Conv2D)        (None, 9, 9, 512)         2359808   \n",
      "_________________________________________________________________\n",
      "block5_conv2 (Conv2D)        (None, 9, 9, 512)         2359808   \n",
      "_________________________________________________________________\n",
      "block5_conv3 (Conv2D)        (None, 9, 9, 512)         2359808   \n",
      "_________________________________________________________________\n",
      "block5_conv4 (Conv2D)        (None, 9, 9, 512)         2359808   \n",
      "_________________________________________________________________\n",
      "block5_pool (MaxPooling2D)   (None, 4, 4, 512)         0         \n",
      "=================================================================\n",
      "Total params: 20,024,384\n",
      "Trainable params: 20,024,384\n",
      "Non-trainable params: 0\n",
      "_________________________________________________________________\n"
     ]
    }
   ],
   "source": [
    "cnn_base.summary()"
   ]
  },
  {
   "cell_type": "code",
   "execution_count": 329,
   "metadata": {},
   "outputs": [
    {
     "name": "stdout",
     "output_type": "stream",
     "text": [
      "_________________________________________________________________\n",
      "Layer (type)                 Output Shape              Param #   \n",
      "=================================================================\n",
      "vgg19 (Model)                (None, 4, 4, 512)         20024384  \n",
      "_________________________________________________________________\n",
      "flatten_21 (Flatten)         (None, 8192)              0         \n",
      "_________________________________________________________________\n",
      "dense_75 (Dense)             (None, 64)                524352    \n",
      "_________________________________________________________________\n",
      "dense_76 (Dense)             (None, 128)               8320      \n",
      "_________________________________________________________________\n",
      "dense_77 (Dense)             (None, 256)               33024     \n",
      "_________________________________________________________________\n",
      "dense_78 (Dense)             (None, 128)               32896     \n",
      "_________________________________________________________________\n",
      "dense_79 (Dense)             (None, 3)                 387       \n",
      "=================================================================\n",
      "Total params: 20,623,363\n",
      "Trainable params: 20,623,363\n",
      "Non-trainable params: 0\n",
      "_________________________________________________________________\n"
     ]
    }
   ],
   "source": [
    "#create the model using the VGG19 pretrained as a base layer\n",
    "pretrain_model = models.Sequential()\n",
    "pretrain_model.add(cnn_base)\n",
    "pretrain_model.add(layers.Flatten())\n",
    "pretrain_model.add(layers.Dense(64, activation='relu'))\n",
    "pretrain_model.add(layers.Dense(128, activation='relu'))\n",
    "pretrain_model.add(layers.Dense(256, activation='relu'))\n",
    "pretrain_model.add(layers.Dense(128, activation='relu'))\n",
    "pretrain_model.add(layers.Dense(3, activation='softmax'))\n",
    "\n",
    "pretrain_model.summary()"
   ]
  },
  {
   "cell_type": "code",
   "execution_count": 331,
   "metadata": {},
   "outputs": [
    {
     "name": "stdout",
     "output_type": "stream",
     "text": [
      "Epoch 1/20\n",
      "20/20 [==============================] - 17s 842ms/step - loss: 0.4344 - acc: 0.8175 - val_loss: 0.4813 - val_acc: 0.8100\n",
      "Epoch 2/20\n",
      "20/20 [==============================] - 14s 699ms/step - loss: 0.4101 - acc: 0.8150 - val_loss: 0.4900 - val_acc: 0.7800\n",
      "Epoch 3/20\n",
      "20/20 [==============================] - 14s 707ms/step - loss: 0.4090 - acc: 0.8150 - val_loss: 0.4563 - val_acc: 0.7889\n",
      "Epoch 4/20\n",
      "20/20 [==============================] - 14s 725ms/step - loss: 0.4559 - acc: 0.8075 - val_loss: 0.4352 - val_acc: 0.8250\n",
      "Epoch 5/20\n",
      "20/20 [==============================] - 15s 730ms/step - loss: 0.4658 - acc: 0.8025 - val_loss: 0.4564 - val_acc: 0.8141\n",
      "Epoch 6/20\n",
      "20/20 [==============================] - 15s 729ms/step - loss: 0.3971 - acc: 0.8475 - val_loss: 0.3410 - val_acc: 0.8350\n",
      "Epoch 7/20\n",
      "20/20 [==============================] - 14s 722ms/step - loss: 0.3901 - acc: 0.8350 - val_loss: 0.4539 - val_acc: 0.7700\n",
      "Epoch 8/20\n",
      "20/20 [==============================] - 14s 719ms/step - loss: 0.3909 - acc: 0.8210 - val_loss: 0.5441 - val_acc: 0.7688\n",
      "Epoch 9/20\n",
      "20/20 [==============================] - 14s 724ms/step - loss: 0.3538 - acc: 0.8550 - val_loss: 0.4843 - val_acc: 0.7900\n",
      "Epoch 10/20\n",
      "20/20 [==============================] - 15s 729ms/step - loss: 0.3443 - acc: 0.8525 - val_loss: 0.4513 - val_acc: 0.8250\n",
      "Epoch 11/20\n",
      "20/20 [==============================] - 15s 732ms/step - loss: 0.3443 - acc: 0.8550 - val_loss: 0.3846 - val_acc: 0.8392\n",
      "Epoch 12/20\n",
      "20/20 [==============================] - 15s 730ms/step - loss: 0.3813 - acc: 0.8525 - val_loss: 0.4847 - val_acc: 0.7650\n",
      "Epoch 13/20\n",
      "20/20 [==============================] - 15s 739ms/step - loss: 0.4630 - acc: 0.7750 - val_loss: 0.4109 - val_acc: 0.8040\n",
      "Epoch 14/20\n",
      "20/20 [==============================] - 15s 742ms/step - loss: 0.4342 - acc: 0.7950 - val_loss: 0.4290 - val_acc: 0.8000\n",
      "Epoch 15/20\n",
      "20/20 [==============================] - 15s 748ms/step - loss: 0.3915 - acc: 0.8200 - val_loss: 0.4539 - val_acc: 0.7800\n",
      "Epoch 16/20\n",
      "20/20 [==============================] - 16s 776ms/step - loss: 0.3863 - acc: 0.8300 - val_loss: 0.4460 - val_acc: 0.8040\n",
      "Epoch 17/20\n",
      "20/20 [==============================] - 15s 757ms/step - loss: 0.3742 - acc: 0.8325 - val_loss: 0.4116 - val_acc: 0.8000\n",
      "Epoch 18/20\n",
      "20/20 [==============================] - 15s 749ms/step - loss: 0.4274 - acc: 0.7875 - val_loss: 0.4577 - val_acc: 0.8050\n",
      "Epoch 19/20\n",
      "20/20 [==============================] - 15s 766ms/step - loss: 0.4162 - acc: 0.8325 - val_loss: 0.4383 - val_acc: 0.7990\n",
      "Epoch 20/20\n",
      "20/20 [==============================] - 15s 745ms/step - loss: 0.3947 - acc: 0.8135 - val_loss: 0.4527 - val_acc: 0.7750\n"
     ]
    }
   ],
   "source": [
    "#Compilation\n",
    "pretrain_model.compile(loss='categorical_crossentropy',\n",
    "              optimizer='adam',\n",
    "              metrics=['acc'])\n",
    "\n",
    "#Fitting the Model\n",
    "pretrain_history = model.fit_generator(\n",
    "              train_generator,\n",
    "              steps_per_epoch= 20,\n",
    "              epochs = 20,\n",
    "              validation_data = validation_generator,\n",
    "              validation_steps = 10)"
   ]
  },
  {
   "cell_type": "code",
   "execution_count": 332,
   "metadata": {},
   "outputs": [
    {
     "data": {
      "image/png": "[encoded data removed]",
      "text/plain": [
       "<Figure size 432x288 with 1 Axes>"
      ]
     },
     "metadata": {
      "needs_background": "light"
     },
     "output_type": "display_data"
    },
    {
     "data": {
      "image/png": "[encoded data removed]",
      "text/plain": [
       "<Figure size 432x288 with 1 Axes>"
      ]
     },
     "metadata": {
      "needs_background": "light"
     },
     "output_type": "display_data"
    }
   ],
   "source": [
    "#plot graphs to check loss/accuracy of train/validation\n",
    "plot_acc_loss(pretrain_history)"
   ]
  },
  {
   "cell_type": "markdown",
   "metadata": {},
   "source": [
    "The above graph of the training and validation loss and accuracy is a bit concerning. The model seems to struggle and failed to improve with every epoches. "
   ]
  },
  {
   "cell_type": "code",
   "execution_count": 333,
   "metadata": {},
   "outputs": [
    {
     "name": "stdout",
     "output_type": "stream",
     "text": [
      "test acc: 0.23863636302061317\n"
     ]
    }
   ],
   "source": [
    "#prints the model accuracy compared to the test data\n",
    "test_loss, test_acc = pretrain_model.evaluate_generator(test_generator, steps=50)\n",
    "print('test acc:', test_acc)"
   ]
  },
  {
   "cell_type": "markdown",
   "metadata": {},
   "source": [
    "### Pretrained Model Analysis\n",
    "\n",
    "Strangely, the pretrained model did not do as well as expected and performed even poorer than chance level! The could be because the pretrained VGG19 base model is optmized for color images, which may translate to poorly to monochrome x-ray imaging. In addition, it is likely that freezing the pretrained model would allow higher accuracy. We shall continue using a pretrained model and incorporate additional techniques to see if the accuracy can be improved."
   ]
  },
  {
   "cell_type": "markdown",
   "metadata": {},
   "source": [
    "## 2c. Modeling with Pretrained Networks with Feature Extraction\n",
    "\n",
    "For this portion, the pretrained model will be used for feature extraction."
   ]
  },
  {
   "cell_type": "code",
   "execution_count": 298,
   "metadata": {},
   "outputs": [
    {
     "name": "stdout",
     "output_type": "stream",
     "text": [
      "_________________________________________________________________\n",
      "Layer (type)                 Output Shape              Param #   \n",
      "=================================================================\n",
      "input_11 (InputLayer)        (None, 150, 150, 3)       0         \n",
      "_________________________________________________________________\n",
      "block1_conv1 (Conv2D)        (None, 150, 150, 64)      1792      \n",
      "_________________________________________________________________\n",
      "block1_conv2 (Conv2D)        (None, 150, 150, 64)      36928     \n",
      "_________________________________________________________________\n",
      "block1_pool (MaxPooling2D)   (None, 75, 75, 64)        0         \n",
      "_________________________________________________________________\n",
      "block2_conv1 (Conv2D)        (None, 75, 75, 128)       73856     \n",
      "_________________________________________________________________\n",
      "block2_conv2 (Conv2D)        (None, 75, 75, 128)       147584    \n",
      "_________________________________________________________________\n",
      "block2_pool (MaxPooling2D)   (None, 37, 37, 128)       0         \n",
      "_________________________________________________________________\n",
      "block3_conv1 (Conv2D)        (None, 37, 37, 256)       295168    \n",
      "_________________________________________________________________\n",
      "block3_conv2 (Conv2D)        (None, 37, 37, 256)       590080    \n",
      "_________________________________________________________________\n",
      "block3_conv3 (Conv2D)        (None, 37, 37, 256)       590080    \n",
      "_________________________________________________________________\n",
      "block3_conv4 (Conv2D)        (None, 37, 37, 256)       590080    \n",
      "_________________________________________________________________\n",
      "block3_pool (MaxPooling2D)   (None, 18, 18, 256)       0         \n",
      "_________________________________________________________________\n",
      "block4_conv1 (Conv2D)        (None, 18, 18, 512)       1180160   \n",
      "_________________________________________________________________\n",
      "block4_conv2 (Conv2D)        (None, 18, 18, 512)       2359808   \n",
      "_________________________________________________________________\n",
      "block4_conv3 (Conv2D)        (None, 18, 18, 512)       2359808   \n",
      "_________________________________________________________________\n",
      "block4_conv4 (Conv2D)        (None, 18, 18, 512)       2359808   \n",
      "_________________________________________________________________\n",
      "block4_pool (MaxPooling2D)   (None, 9, 9, 512)         0         \n",
      "_________________________________________________________________\n",
      "block5_conv1 (Conv2D)        (None, 9, 9, 512)         2359808   \n",
      "_________________________________________________________________\n",
      "block5_conv2 (Conv2D)        (None, 9, 9, 512)         2359808   \n",
      "_________________________________________________________________\n",
      "block5_conv3 (Conv2D)        (None, 9, 9, 512)         2359808   \n",
      "_________________________________________________________________\n",
      "block5_conv4 (Conv2D)        (None, 9, 9, 512)         2359808   \n",
      "_________________________________________________________________\n",
      "block5_pool (MaxPooling2D)   (None, 4, 4, 512)         0         \n",
      "=================================================================\n",
      "Total params: 20,024,384\n",
      "Trainable params: 20,024,384\n",
      "Non-trainable params: 0\n",
      "_________________________________________________________________\n"
     ]
    }
   ],
   "source": [
    "cnn_base.summary()"
   ]
  },
  {
   "cell_type": "code",
   "execution_count": 36,
   "metadata": {},
   "outputs": [],
   "source": [
    "#This function uses the pretrained network to extract the necessary features\n",
    "\n",
    "datagen = ImageDataGenerator(rescale=1./255) \n",
    "batch_size = 20\n",
    "classes = 3\n",
    "\n",
    "def extract_features(directory, sample_amount):\n",
    "    features = np.zeros(shape=(sample_amount, 4, 4, 512)) #creates 4-D numpy 0's array with sample amt in first layer\n",
    "    labels = np.zeros(shape=(sample_amount, classes)) # creates 1-D numpy 0's array of labels with sample amount\n",
    "    generator = datagen.flow_from_directory(\n",
    "        directory, target_size=(150, 150), \n",
    "        batch_size = batch_size, \n",
    "        class_mode='categorical') #takes data from directory given\n",
    "    i=0 #iteration\n",
    "    for inputs_batch, labels_batch in generator:  #for every batch in the generator\n",
    "        features_batch = cnn_base.predict(inputs_batch) #use base CNN model to extract features based on inputs for that batch\n",
    "        features[i * batch_size : (i + 1) * batch_size] = features_batch #turns 0's in features to feature predicted by generator\n",
    "        labels[i * batch_size : (i + 1) * batch_size] = labels_batch #turns 0's in labels to labels predicted by generator\n",
    "        i = i + 1  #increase interation\n",
    "        if i * batch_size >= sample_amount: #if number of features >= sample amount, stops the program\n",
    "            break\n",
    "    return features, labels\n",
    "\n"
   ]
  },
  {
   "cell_type": "code",
   "execution_count": 300,
   "metadata": {},
   "outputs": [
    {
     "name": "stdout",
     "output_type": "stream",
     "text": [
      "Found 4693 images belonging to 3 classes.\n",
      "Found 539 images belonging to 3 classes.\n",
      "Found 624 images belonging to 3 classes.\n"
     ]
    }
   ],
   "source": [
    "#use the function above on each directory and reshape the array\n",
    "train_features, train_labels = extract_features(train_dir, 2500) \n",
    "validation_features, validation_labels = extract_features(val_dir, 500) \n",
    "test_features, test_labels = extract_features(test_dir, 600)\n",
    "\n",
    "train_features = np.reshape(train_features, (2500, 4 * 4 * 512)) #reshape to 2-D array\n",
    "validation_features = np.reshape(validation_features, (500, 4 * 4 * 512))\n",
    "test_features = np.reshape(test_features, (600, 4 * 4 * 512))"
   ]
  },
  {
   "cell_type": "code",
   "execution_count": 307,
   "metadata": {},
   "outputs": [
    {
     "name": "stdout",
     "output_type": "stream",
     "text": [
      "Train on 2500 samples, validate on 500 samples\n",
      "Epoch 1/20\n",
      "2500/2500 [==============================] - 7s 3ms/step - loss: 0.7264 - acc: 0.7088 - val_loss: 0.5388 - val_acc: 0.7500\n",
      "Epoch 2/20\n",
      "2500/2500 [==============================] - 4s 1ms/step - loss: 0.4673 - acc: 0.7884 - val_loss: 0.5974 - val_acc: 0.7420\n",
      "Epoch 3/20\n",
      "2500/2500 [==============================] - 3s 1ms/step - loss: 0.4369 - acc: 0.8060 - val_loss: 0.4532 - val_acc: 0.8280\n",
      "Epoch 4/20\n",
      "2500/2500 [==============================] - 3s 1ms/step - loss: 0.3981 - acc: 0.8256 - val_loss: 0.5034 - val_acc: 0.7800\n",
      "Epoch 5/20\n",
      "2500/2500 [==============================] - 3s 1ms/step - loss: 0.3952 - acc: 0.8292 - val_loss: 0.4886 - val_acc: 0.7820\n",
      "Epoch 6/20\n",
      "2500/2500 [==============================] - 3s 1ms/step - loss: 0.3861 - acc: 0.8260 - val_loss: 0.4905 - val_acc: 0.7840\n",
      "Epoch 7/20\n",
      "2500/2500 [==============================] - 3s 1ms/step - loss: 0.3595 - acc: 0.8360 - val_loss: 0.4662 - val_acc: 0.8160\n",
      "Epoch 8/20\n",
      "2500/2500 [==============================] - 3s 1ms/step - loss: 0.3392 - acc: 0.8512 - val_loss: 0.4609 - val_acc: 0.7980\n",
      "Epoch 9/20\n",
      "2500/2500 [==============================] - 4s 1ms/step - loss: 0.3034 - acc: 0.8740 - val_loss: 0.4234 - val_acc: 0.8080\n",
      "Epoch 10/20\n",
      "2500/2500 [==============================] - 3s 1ms/step - loss: 0.2850 - acc: 0.8740 - val_loss: 0.4529 - val_acc: 0.8120\n",
      "Epoch 11/20\n",
      "2500/2500 [==============================] - 4s 1ms/step - loss: 0.2721 - acc: 0.8900 - val_loss: 0.4652 - val_acc: 0.8000\n",
      "Epoch 12/20\n",
      "2500/2500 [==============================] - 4s 1ms/step - loss: 0.2942 - acc: 0.8748 - val_loss: 0.6384 - val_acc: 0.7380\n",
      "Epoch 13/20\n",
      "2500/2500 [==============================] - 3s 1ms/step - loss: 0.2451 - acc: 0.8984 - val_loss: 0.4828 - val_acc: 0.8220\n",
      "Epoch 14/20\n",
      "2500/2500 [==============================] - 4s 1ms/step - loss: 0.2440 - acc: 0.9056 - val_loss: 0.5558 - val_acc: 0.8100\n",
      "Epoch 15/20\n",
      "2500/2500 [==============================] - 4s 1ms/step - loss: 0.2063 - acc: 0.9188 - val_loss: 0.4628 - val_acc: 0.8160\n",
      "Epoch 16/20\n",
      "2500/2500 [==============================] - 4s 1ms/step - loss: 0.2546 - acc: 0.8812 - val_loss: 0.4690 - val_acc: 0.8020\n",
      "Epoch 17/20\n",
      "2500/2500 [==============================] - 4s 1ms/step - loss: 0.1924 - acc: 0.9240 - val_loss: 0.4993 - val_acc: 0.8060\n",
      "Epoch 18/20\n",
      "2500/2500 [==============================] - 4s 1ms/step - loss: 0.2073 - acc: 0.9180 - val_loss: 0.4715 - val_acc: 0.8180\n",
      "Epoch 19/20\n",
      "2500/2500 [==============================] - 3s 1ms/step - loss: 0.1997 - acc: 0.9180 - val_loss: 0.4893 - val_acc: 0.8060\n",
      "Epoch 20/20\n",
      "2500/2500 [==============================] - 4s 1ms/step - loss: 0.1759 - acc: 0.9300 - val_loss: 0.5034 - val_acc: 0.8080\n"
     ]
    }
   ],
   "source": [
    "\n",
    "fe_model = models.Sequential() #builds sequential model\n",
    "fe_model.add(layers.Dense(256, activation='relu', input_dim=4 * 4 * 512))\n",
    "fe_model.add(layers.Dense(3, activation='softmax')) #converge to output layer\n",
    "\n",
    "fe_model.compile(optimizer='adam', #compiles model\n",
    "              loss='categorical_crossentropy',\n",
    "              metrics=['acc'])\n",
    "\n",
    "fe_history = fe_model.fit(train_features, train_labels, #fits model to train/valid feature/labels\n",
    "                    epochs=20,\n",
    "                    batch_size=20,\n",
    "                    validation_data=(validation_features, validation_labels),\n",
    "                    callbacks = [early_stopping])"
   ]
  },
  {
   "cell_type": "code",
   "execution_count": 317,
   "metadata": {},
   "outputs": [
    {
     "data": {
      "image/png": "[encoded data removed]",
      "text/plain": [
       "<Figure size 432x288 with 1 Axes>"
      ]
     },
     "metadata": {
      "needs_background": "light"
     },
     "output_type": "display_data"
    },
    {
     "data": {
      "image/png": "[encoded data removed]",
      "text/plain": [
       "<Figure size 432x288 with 1 Axes>"
      ]
     },
     "metadata": {
      "needs_background": "light"
     },
     "output_type": "display_data"
    }
   ],
   "source": [
    "plot_acc_loss(fe_history)"
   ]
  },
  {
   "cell_type": "markdown",
   "metadata": {},
   "source": [
    "Since validation accuracy does not increase with training accuracy, the model has most likely overfitted."
   ]
  },
  {
   "cell_type": "code",
   "execution_count": 318,
   "metadata": {},
   "outputs": [
    {
     "name": "stdout",
     "output_type": "stream",
     "text": [
      "600/600 [==============================] - 0s 226us/step\n",
      "test acc: 0.6699999992052714\n"
     ]
    }
   ],
   "source": [
    "test_loss, test_acc = fe_model.evaluate(test_features, test_labels)#eval model using test feats/labels\n",
    "print('test acc:', test_acc)\n"
   ]
  },
  {
   "cell_type": "markdown",
   "metadata": {},
   "source": [
    "### Pretrained Model with Feature Extraction Analysis\n",
    "\n",
    "There is substantial improvement with feature extraction, but it falls embarassingly behind even our basic CNN. However, the graphs suggest that overfitting occurred since validation did not correlate with training loss. It would be wise to repeat the model with less epochs."
   ]
  },
  {
   "cell_type": "code",
   "execution_count": 334,
   "metadata": {},
   "outputs": [
    {
     "name": "stdout",
     "output_type": "stream",
     "text": [
      "Train on 2500 samples, validate on 500 samples\n",
      "Epoch 1/3\n",
      "2500/2500 [==============================] - 4s 2ms/step - loss: 0.1772 - acc: 0.9308 - val_loss: 0.5614 - val_acc: 0.7980\n",
      "Epoch 2/3\n",
      "2500/2500 [==============================] - 4s 1ms/step - loss: 0.1479 - acc: 0.9424 - val_loss: 0.5407 - val_acc: 0.8080\n",
      "Epoch 3/3\n",
      "2500/2500 [==============================] - 4s 2ms/step - loss: 0.1369 - acc: 0.9500 - val_loss: 0.5563 - val_acc: 0.8040\n",
      "600/600 [==============================] - 0s 313us/step\n",
      "test acc: 0.7133333325386048\n"
     ]
    }
   ],
   "source": [
    "#Rerun the feature extraction model with few epochs to prevent overfitting\n",
    "fe_history = fe_model.fit(train_features, train_labels, #fits model to train/valid feature/labels\n",
    "                    epochs=3,\n",
    "                    batch_size=20,\n",
    "                    validation_data=(validation_features, validation_labels),\n",
    "                    callbacks = [early_stopping])\n",
    "\n",
    "test_loss, test_acc = fe_model.evaluate(test_features, test_labels)#eval model using test feats/labels\n",
    "print('test acc:', test_acc)"
   ]
  },
  {
   "cell_type": "markdown",
   "metadata": {},
   "source": [
    "As expected, the model did not overfit with fewer epochs and in fact did about 5% better than before. This puts it essentially on par with our original model. "
   ]
  },
  {
   "cell_type": "markdown",
   "metadata": {},
   "source": [
    "## 2d. Feature Extraction with Freezing with a Pretrained Model"
   ]
  },
  {
   "cell_type": "code",
   "execution_count": 14,
   "metadata": {},
   "outputs": [],
   "source": [
    "cnn_base = VGG19(weights='imagenet',\n",
    "                  include_top=False,\n",
    "                  input_shape=(150, 150, 3))"
   ]
  },
  {
   "cell_type": "code",
   "execution_count": 15,
   "metadata": {},
   "outputs": [],
   "source": [
    "#build the model\n",
    "freeze_model = models.Sequential()\n",
    "freeze_model.add(cnn_base)\n",
    "freeze_model.add(layers.Flatten())\n",
    "freeze_model.add(layers.Dense(132, activation='relu'))\n",
    "freeze_model.add(layers.Dense(3, activation='softmax'))\n",
    "\n",
    "#freeze the base so weights can't be changed\n",
    "cnn_base.trainable = False\n",
    "\n",
    "#compile\n",
    "freeze_model.compile(loss='categorical_crossentropy',\n",
    "              optimizer='adam',\n",
    "              metrics=['acc'])\n"
   ]
  },
  {
   "cell_type": "code",
   "execution_count": 16,
   "metadata": {},
   "outputs": [],
   "source": [
    "#name of the file for the best weights\n",
    "checkpoints_path = 'freeze_weights_base.best.hdf5'\n",
    "checkpoint = ModelCheckpoint(checkpoints_path, monitor='val_loss', verbose=1, save_best_only=True, mode='min')"
   ]
  },
  {
   "cell_type": "code",
   "execution_count": 17,
   "metadata": {},
   "outputs": [
    {
     "name": "stdout",
     "output_type": "stream",
     "text": [
      "WARNING:tensorflow:From C:\\Users\\Thien Nguyen\\Anaconda3\\lib\\site-packages\\tensorflow\\python\\ops\\math_ops.py:3066: to_int32 (from tensorflow.python.ops.math_ops) is deprecated and will be removed in a future version.\n",
      "Instructions for updating:\n",
      "Use tf.cast instead.\n",
      "Epoch 1/20\n",
      "20/20 [==============================] - 76s 4s/step - loss: 1.4519 - acc: 0.5200 - val_loss: 0.7603 - val_acc: 0.4550\n",
      "\n",
      "Epoch 00001: val_loss improved from inf to 0.76028, saving model to freeze_weights_base.best.hdf5\n",
      "Epoch 2/20\n",
      "20/20 [==============================] - 78s 4s/step - loss: 0.6531 - acc: 0.6575 - val_loss: 0.6581 - val_acc: 0.6650\n",
      "\n",
      "Epoch 00002: val_loss improved from 0.76028 to 0.65814, saving model to freeze_weights_base.best.hdf5\n",
      "Epoch 3/20\n",
      "20/20 [==============================] - 77s 4s/step - loss: 0.6381 - acc: 0.6850 - val_loss: 0.6130 - val_acc: 0.7286\n",
      "\n",
      "Epoch 00003: val_loss improved from 0.65814 to 0.61304, saving model to freeze_weights_base.best.hdf5\n",
      "Epoch 4/20\n",
      "20/20 [==============================] - 78s 4s/step - loss: 0.6396 - acc: 0.6975 - val_loss: 0.5906 - val_acc: 0.6950\n",
      "\n",
      "Epoch 00004: val_loss improved from 0.61304 to 0.59059, saving model to freeze_weights_base.best.hdf5\n",
      "Epoch 5/20\n",
      "20/20 [==============================] - 78s 4s/step - loss: 0.5732 - acc: 0.7425 - val_loss: 0.5761 - val_acc: 0.7100\n",
      "\n",
      "Epoch 00005: val_loss improved from 0.59059 to 0.57611, saving model to freeze_weights_base.best.hdf5\n",
      "Epoch 6/20\n",
      "20/20 [==============================] - 79s 4s/step - loss: 0.5718 - acc: 0.7250 - val_loss: 0.5916 - val_acc: 0.7337\n",
      "\n",
      "Epoch 00006: val_loss did not improve from 0.57611\n",
      "Epoch 7/20\n",
      "20/20 [==============================] - 78s 4s/step - loss: 0.5854 - acc: 0.7425 - val_loss: 0.5430 - val_acc: 0.7600\n",
      "\n",
      "Epoch 00007: val_loss improved from 0.57611 to 0.54303, saving model to freeze_weights_base.best.hdf5\n",
      "Epoch 8/20\n",
      "20/20 [==============================] - 78s 4s/step - loss: 0.5641 - acc: 0.7400 - val_loss: 0.4851 - val_acc: 0.8200\n",
      "\n",
      "Epoch 00008: val_loss improved from 0.54303 to 0.48515, saving model to freeze_weights_base.best.hdf5\n",
      "Epoch 9/20\n",
      "20/20 [==============================] - 79s 4s/step - loss: 0.5236 - acc: 0.7650 - val_loss: 0.5915 - val_acc: 0.7286\n",
      "\n",
      "Epoch 00009: val_loss did not improve from 0.48515\n",
      "Epoch 10/20\n",
      "20/20 [==============================] - 78s 4s/step - loss: 0.5622 - acc: 0.7575 - val_loss: 0.4748 - val_acc: 0.8300\n",
      "\n",
      "Epoch 00010: val_loss improved from 0.48515 to 0.47482, saving model to freeze_weights_base.best.hdf5\n",
      "Epoch 11/20\n",
      "20/20 [==============================] - 79s 4s/step - loss: 0.5011 - acc: 0.7875 - val_loss: 0.5465 - val_acc: 0.7136\n",
      "\n",
      "Epoch 00011: val_loss did not improve from 0.47482\n",
      "Epoch 12/20\n",
      "20/20 [==============================] - 78s 4s/step - loss: 0.4844 - acc: 0.7823 - val_loss: 0.4325 - val_acc: 0.8200\n",
      "\n",
      "Epoch 00012: val_loss improved from 0.47482 to 0.43248, saving model to freeze_weights_base.best.hdf5\n",
      "Epoch 13/20\n",
      "20/20 [==============================] - 79s 4s/step - loss: 0.4960 - acc: 0.7975 - val_loss: 0.5837 - val_acc: 0.7350\n",
      "\n",
      "Epoch 00013: val_loss did not improve from 0.43248\n",
      "Epoch 14/20\n",
      "20/20 [==============================] - 79s 4s/step - loss: 0.4526 - acc: 0.8000 - val_loss: 0.4658 - val_acc: 0.8141\n",
      "\n",
      "Epoch 00014: val_loss did not improve from 0.43248\n",
      "Epoch 15/20\n",
      "20/20 [==============================] - 79s 4s/step - loss: 0.4674 - acc: 0.8000 - val_loss: 0.4323 - val_acc: 0.8200\n",
      "\n",
      "Epoch 00015: val_loss improved from 0.43248 to 0.43228, saving model to freeze_weights_base.best.hdf5\n",
      "Epoch 16/20\n",
      "20/20 [==============================] - 78s 4s/step - loss: 0.4468 - acc: 0.8050 - val_loss: 0.5382 - val_acc: 0.7500\n",
      "\n",
      "Epoch 00016: val_loss did not improve from 0.43228\n",
      "Epoch 17/20\n",
      "20/20 [==============================] - 78s 4s/step - loss: 0.4399 - acc: 0.8100 - val_loss: 0.4618 - val_acc: 0.8241\n",
      "\n",
      "Epoch 00017: val_loss did not improve from 0.43228\n",
      "Epoch 18/20\n",
      "20/20 [==============================] - 78s 4s/step - loss: 0.5001 - acc: 0.7825 - val_loss: 0.4383 - val_acc: 0.8000\n",
      "\n",
      "Epoch 00018: val_loss did not improve from 0.43228\n",
      "Epoch 19/20\n",
      "20/20 [==============================] - 78s 4s/step - loss: 0.5191 - acc: 0.7650 - val_loss: 0.5549 - val_acc: 0.7789\n",
      "\n",
      "Epoch 00019: val_loss did not improve from 0.43228\n",
      "Epoch 20/20\n",
      "20/20 [==============================] - 78s 4s/step - loss: 0.3755 - acc: 0.8475 - val_loss: 0.5196 - val_acc: 0.7800\n",
      "\n",
      "Epoch 00020: val_loss did not improve from 0.43228\n"
     ]
    }
   ],
   "source": [
    "freeze_history = freeze_model.fit_generator(\n",
    "              train_generator,\n",
    "              steps_per_epoch =20,\n",
    "              epochs = 20,\n",
    "              validation_data = validation_generator,\n",
    "              validation_steps = 10,\n",
    "              callbacks = [checkpoint])"
   ]
  },
  {
   "cell_type": "code",
   "execution_count": 20,
   "metadata": {},
   "outputs": [
    {
     "data": {
      "image/png": "[encoded data removed]",
      "text/plain": [
       "<Figure size 432x288 with 1 Axes>"
      ]
     },
     "metadata": {
      "needs_background": "light"
     },
     "output_type": "display_data"
    },
    {
     "data": {
      "image/png": "[encoded data removed]",
      "text/plain": [
       "<Figure size 432x288 with 1 Axes>"
      ]
     },
     "metadata": {
      "needs_background": "light"
     },
     "output_type": "display_data"
    }
   ],
   "source": [
    "plot_acc_loss(freeze_history)"
   ]
  },
  {
   "cell_type": "markdown",
   "metadata": {},
   "source": [
    "The graphs demonstrate no overfitting and suggests a possible accuracy of around 78%."
   ]
  },
  {
   "cell_type": "code",
   "execution_count": 21,
   "metadata": {},
   "outputs": [
    {
     "name": "stdout",
     "output_type": "stream",
     "text": [
      "test acc: 0.6504065041256145\n"
     ]
    }
   ],
   "source": [
    "test_loss, test_acc = freeze_model.evaluate_generator(test_generator, steps=50)\n",
    "print('test acc:', test_acc)"
   ]
  },
  {
   "cell_type": "markdown",
   "metadata": {},
   "source": [
    "Strangely, the test did not do as well as expected, as accuracy only reached 65%, which is below even the simple CNN model. Let's see if loading the best weights into the model can improve this."
   ]
  },
  {
   "cell_type": "code",
   "execution_count": 22,
   "metadata": {},
   "outputs": [],
   "source": [
    "freeze_model = models.Sequential()\n",
    "freeze_model.add(cnn_base)\n",
    "freeze_model.add(layers.Flatten())\n",
    "freeze_model.add(layers.Dense(132, activation='relu'))\n",
    "freeze_model.add(layers.Dense(3, activation='softmax'))\n",
    "\n",
    "\n",
    "freeze_model.compile(loss='categorical_crossentropy',\n",
    "              optimizer='adam',\n",
    "              metrics=['acc'])\n",
    "\n",
    "#load the best weights into the model\n",
    "freeze_model.load_weights('freeze_weights_base.best.hdf5')\n",
    "\n"
   ]
  },
  {
   "cell_type": "code",
   "execution_count": 23,
   "metadata": {},
   "outputs": [
    {
     "name": "stdout",
     "output_type": "stream",
     "text": [
      "test acc: 0.7159090912785412\n"
     ]
    }
   ],
   "source": [
    "test_loss, test_acc = freeze_model.evaluate_generator(test_generator, steps=50)\n",
    "print('test acc:', test_acc)"
   ]
  },
  {
   "cell_type": "markdown",
   "metadata": {},
   "source": [
    "As expected, the accuracy increased a bit by using the best weights with an overall accuracy of 71.5%."
   ]
  },
  {
   "cell_type": "markdown",
   "metadata": {},
   "source": [
    "### Feature Extraction with Freezing Model Analysis\n",
    "\n",
    "Freezing the pretained base layer did not help as much as expected. The overall accuracy is about the same as feature extraction without freezing, and even when the best weights were used, the model did not improve. However, this is still much better than simply using the pretained model directly without freezing or feature extraction. For now, some fine tuning may be able to help improve it slightly."
   ]
  },
  {
   "cell_type": "markdown",
   "metadata": {},
   "source": [
    "## 2e. Fine-Tuning a Frozen, Pretrained Model"
   ]
  },
  {
   "cell_type": "markdown",
   "metadata": {},
   "source": [
    "First, let's reexamine our current model and check to see that the base is still frozen, which is a prerequisite for fine tuning."
   ]
  },
  {
   "cell_type": "code",
   "execution_count": 10,
   "metadata": {},
   "outputs": [
    {
     "name": "stdout",
     "output_type": "stream",
     "text": [
      "_________________________________________________________________\n",
      "Layer (type)                 Output Shape              Param #   \n",
      "=================================================================\n",
      "vgg19 (Model)                (None, 4, 4, 512)         20024384  \n",
      "_________________________________________________________________\n",
      "flatten_1 (Flatten)          (None, 8192)              0         \n",
      "_________________________________________________________________\n",
      "dense_1 (Dense)              (None, 132)               1081476   \n",
      "_________________________________________________________________\n",
      "dense_2 (Dense)              (None, 3)                 399       \n",
      "=================================================================\n",
      "Total params: 21,106,259\n",
      "Trainable params: 1,081,875\n",
      "Non-trainable params: 20,024,384\n",
      "_________________________________________________________________\n"
     ]
    }
   ],
   "source": [
    "freeze_model.summary()"
   ]
  },
  {
   "cell_type": "code",
   "execution_count": 24,
   "metadata": {},
   "outputs": [
    {
     "data": {
      "text/plain": [
       "False"
      ]
     },
     "execution_count": 24,
     "metadata": {},
     "output_type": "execute_result"
    }
   ],
   "source": [
    "#check if base is frozen\n",
    "cnn_base.trainable"
   ]
  },
  {
   "cell_type": "code",
   "execution_count": 25,
   "metadata": {},
   "outputs": [],
   "source": [
    "#function that takes a cnn base along with the name of a layer. Then, unfreezes every layer from the specified layer onwards\n",
    "\n",
    "def make_trainable(cnn_base, layer_name):\n",
    "    cnn_base.trainable = True\n",
    "    set_trainable = False\n",
    "    for layer in cnn_base.layers:  #sets every layer from the specified layer to the last layer as trainable. \n",
    "        if layer.name == layer_name:\n",
    "            set_trainable = True\n",
    "        if set_trainable:\n",
    "            layer.trainable = True\n",
    "        else:\n",
    "            layer.trainable = False\n",
    "\n",
    "#makes the last 5 layers trainable\n",
    "make_trainable(cnn_base, 'block5_conv1')"
   ]
  },
  {
   "cell_type": "code",
   "execution_count": 13,
   "metadata": {},
   "outputs": [
    {
     "name": "stdout",
     "output_type": "stream",
     "text": [
      "_________________________________________________________________\n",
      "Layer (type)                 Output Shape              Param #   \n",
      "=================================================================\n",
      "input_1 (InputLayer)         (None, 150, 150, 3)       0         \n",
      "_________________________________________________________________\n",
      "block1_conv1 (Conv2D)        (None, 150, 150, 64)      1792      \n",
      "_________________________________________________________________\n",
      "block1_conv2 (Conv2D)        (None, 150, 150, 64)      36928     \n",
      "_________________________________________________________________\n",
      "block1_pool (MaxPooling2D)   (None, 75, 75, 64)        0         \n",
      "_________________________________________________________________\n",
      "block2_conv1 (Conv2D)        (None, 75, 75, 128)       73856     \n",
      "_________________________________________________________________\n",
      "block2_conv2 (Conv2D)        (None, 75, 75, 128)       147584    \n",
      "_________________________________________________________________\n",
      "block2_pool (MaxPooling2D)   (None, 37, 37, 128)       0         \n",
      "_________________________________________________________________\n",
      "block3_conv1 (Conv2D)        (None, 37, 37, 256)       295168    \n",
      "_________________________________________________________________\n",
      "block3_conv2 (Conv2D)        (None, 37, 37, 256)       590080    \n",
      "_________________________________________________________________\n",
      "block3_conv3 (Conv2D)        (None, 37, 37, 256)       590080    \n",
      "_________________________________________________________________\n",
      "block3_conv4 (Conv2D)        (None, 37, 37, 256)       590080    \n",
      "_________________________________________________________________\n",
      "block3_pool (MaxPooling2D)   (None, 18, 18, 256)       0         \n",
      "_________________________________________________________________\n",
      "block4_conv1 (Conv2D)        (None, 18, 18, 512)       1180160   \n",
      "_________________________________________________________________\n",
      "block4_conv2 (Conv2D)        (None, 18, 18, 512)       2359808   \n",
      "_________________________________________________________________\n",
      "block4_conv3 (Conv2D)        (None, 18, 18, 512)       2359808   \n",
      "_________________________________________________________________\n",
      "block4_conv4 (Conv2D)        (None, 18, 18, 512)       2359808   \n",
      "_________________________________________________________________\n",
      "block4_pool (MaxPooling2D)   (None, 9, 9, 512)         0         \n",
      "_________________________________________________________________\n",
      "block5_conv1 (Conv2D)        (None, 9, 9, 512)         2359808   \n",
      "_________________________________________________________________\n",
      "block5_conv2 (Conv2D)        (None, 9, 9, 512)         2359808   \n",
      "_________________________________________________________________\n",
      "block5_conv3 (Conv2D)        (None, 9, 9, 512)         2359808   \n",
      "_________________________________________________________________\n",
      "block5_conv4 (Conv2D)        (None, 9, 9, 512)         2359808   \n",
      "_________________________________________________________________\n",
      "block5_pool (MaxPooling2D)   (None, 4, 4, 512)         0         \n",
      "=================================================================\n",
      "Total params: 20,024,384\n",
      "Trainable params: 9,439,232\n",
      "Non-trainable params: 10,585,152\n",
      "_________________________________________________________________\n"
     ]
    }
   ],
   "source": [
    "#check if the base has some unfrozen layers\n",
    "cnn_base.summary()"
   ]
  },
  {
   "cell_type": "markdown",
   "metadata": {},
   "source": [
    "There are now about 9.4 million trainable parameters, which comes from the unfrozen layers that we've selected for fine-tuning"
   ]
  },
  {
   "cell_type": "code",
   "execution_count": 26,
   "metadata": {},
   "outputs": [
    {
     "name": "stdout",
     "output_type": "stream",
     "text": [
      "Epoch 1/20\n",
      "20/20 [==============================] - 88s 4s/step - loss: 8.5224 - acc: 0.4675 - val_loss: 8.3425 - val_acc: 0.4824\n",
      "Epoch 2/20\n",
      "20/20 [==============================] - 89s 4s/step - loss: 8.1396 - acc: 0.4950 - val_loss: 7.4949 - val_acc: 0.5350\n",
      "Epoch 3/20\n",
      "20/20 [==============================] - 89s 4s/step - loss: 8.2509 - acc: 0.4881 - val_loss: 8.3814 - val_acc: 0.4800\n",
      "Epoch 4/20\n",
      "20/20 [==============================] - 91s 5s/step - loss: 8.2605 - acc: 0.4875 - val_loss: 8.5855 - val_acc: 0.4673\n",
      "Epoch 5/20\n",
      "20/20 [==============================] - 92s 5s/step - loss: 8.5829 - acc: 0.4675 - val_loss: 7.8979 - val_acc: 0.5100\n",
      "Epoch 6/20\n",
      "20/20 [==============================] - 91s 5s/step - loss: 8.6232 - acc: 0.4650 - val_loss: 8.8285 - val_acc: 0.4523\n",
      "Epoch 7/20\n",
      "20/20 [==============================] - 91s 5s/step - loss: 8.7038 - acc: 0.4600 - val_loss: 8.1396 - val_acc: 0.4950\n",
      "Epoch 8/20\n",
      "20/20 [==============================] - 91s 5s/step - loss: 7.9382 - acc: 0.5075 - val_loss: 8.1396 - val_acc: 0.4950\n",
      "Epoch 9/20\n",
      "20/20 [==============================] - 91s 5s/step - loss: 8.6232 - acc: 0.4650 - val_loss: 8.7475 - val_acc: 0.4573\n",
      "Epoch 10/20\n",
      "20/20 [==============================] - 91s 5s/step - loss: 8.5023 - acc: 0.4725 - val_loss: 7.2531 - val_acc: 0.5500\n",
      "Epoch 11/20\n",
      "20/20 [==============================] - 92s 5s/step - loss: 7.7770 - acc: 0.5175 - val_loss: 8.7038 - val_acc: 0.4600\n",
      "Epoch 12/20\n",
      "20/20 [==============================] - 91s 5s/step - loss: 8.0590 - acc: 0.5000 - val_loss: 8.3425 - val_acc: 0.4824\n",
      "Epoch 13/20\n",
      "20/20 [==============================] - 91s 5s/step - loss: 7.7367 - acc: 0.5200 - val_loss: 8.5426 - val_acc: 0.4700\n",
      "Epoch 14/20\n",
      "20/20 [==============================] - 91s 5s/step - loss: 8.6635 - acc: 0.4625 - val_loss: 8.5045 - val_acc: 0.4724\n",
      "Epoch 15/20\n",
      "20/20 [==============================] - 90s 5s/step - loss: 8.2705 - acc: 0.4869 - val_loss: 8.9455 - val_acc: 0.4450\n",
      "Epoch 16/20\n",
      "20/20 [==============================] - 91s 5s/step - loss: 8.9052 - acc: 0.4475 - val_loss: 7.7367 - val_acc: 0.5200\n",
      "Epoch 17/20\n",
      "20/20 [==============================] - 91s 5s/step - loss: 7.2934 - acc: 0.5475 - val_loss: 8.1805 - val_acc: 0.4925\n",
      "Epoch 18/20\n",
      "20/20 [==============================] - 91s 5s/step - loss: 8.2202 - acc: 0.4900 - val_loss: 8.5426 - val_acc: 0.4700\n",
      "Epoch 19/20\n",
      "20/20 [==============================] - 91s 5s/step - loss: 8.1396 - acc: 0.4950 - val_loss: 8.3814 - val_acc: 0.4800\n",
      "Epoch 20/20\n",
      "20/20 [==============================] - 91s 5s/step - loss: 7.8173 - acc: 0.5150 - val_loss: 7.5326 - val_acc: 0.5327\n"
     ]
    }
   ],
   "source": [
    "freeze_model.compile(loss='categorical_crossentropy',\n",
    "              optimizer='adam',\n",
    "              metrics=['acc'])\n",
    "\n",
    "ft_history = freeze_model.fit_generator(\n",
    "              train_generator, \n",
    "              steps_per_epoch= 20,\n",
    "              epochs = 20,\n",
    "              validation_data = validation_generator,\n",
    "              validation_steps = 10)"
   ]
  },
  {
   "cell_type": "code",
   "execution_count": 27,
   "metadata": {},
   "outputs": [
    {
     "data": {
      "image/png": "[encoded data removed]",
      "text/plain": [
       "<Figure size 432x288 with 1 Axes>"
      ]
     },
     "metadata": {
      "needs_background": "light"
     },
     "output_type": "display_data"
    },
    {
     "data": {
      "image/png": "[encoded data removed]",
      "text/plain": [
       "<Figure size 432x288 with 1 Axes>"
      ]
     },
     "metadata": {
      "needs_background": "light"
     },
     "output_type": "display_data"
    }
   ],
   "source": [
    "plot_acc_loss(ft_history)"
   ]
  },
  {
   "cell_type": "code",
   "execution_count": 28,
   "metadata": {},
   "outputs": [
    {
     "name": "stdout",
     "output_type": "stream",
     "text": [
      "test acc: 0.25619834784633855\n"
     ]
    }
   ],
   "source": [
    "#prints test accuracy\n",
    "test_loss, test_acc = freeze_model.evaluate_generator(test_generator, steps=50)\n",
    "print('test acc:', test_acc)"
   ]
  },
  {
   "cell_type": "markdown",
   "metadata": {},
   "source": [
    "### Fine-Tuned Model Analysis\n",
    "\n",
    "Unfreezing some layers to fine tune the pretrained model did not fare well. It is likely that too many parameters were changed, which was overall detrimental to image recognition."
   ]
  },
  {
   "cell_type": "markdown",
   "metadata": {},
   "source": [
    "## 2f. Creating a Better Model from Scratch\n",
    "\n",
    "The very first model only had 8 layers and about 8.5 million trainable parameters, but was still able to attain an impressive accuracy of over 70%. In addition, the model had less epochs than our pretrained models, and its accuracy/loss graph between training and validation data suggests that accuracy can be improved with more epochs. So for this final model, we shall try to make a deeper, denser CNN. To offset any extraordinarily long processing time, both model checkpoint and early stopping will be used."
   ]
  },
  {
   "cell_type": "code",
   "execution_count": 29,
   "metadata": {},
   "outputs": [
    {
     "name": "stdout",
     "output_type": "stream",
     "text": [
      "_________________________________________________________________\n",
      "Layer (type)                 Output Shape              Param #   \n",
      "=================================================================\n",
      "conv2d_6 (Conv2D)            (None, 148, 148, 32)      896       \n",
      "_________________________________________________________________\n",
      "max_pooling2d_4 (MaxPooling2 (None, 74, 74, 32)        0         \n",
      "_________________________________________________________________\n",
      "conv2d_7 (Conv2D)            (None, 71, 71, 64)        32832     \n",
      "_________________________________________________________________\n",
      "conv2d_8 (Conv2D)            (None, 68, 68, 64)        65600     \n",
      "_________________________________________________________________\n",
      "max_pooling2d_5 (MaxPooling2 (None, 34, 34, 64)        0         \n",
      "_________________________________________________________________\n",
      "conv2d_9 (Conv2D)            (None, 32, 32, 128)       73856     \n",
      "_________________________________________________________________\n",
      "conv2d_10 (Conv2D)           (None, 30, 30, 128)       147584    \n",
      "_________________________________________________________________\n",
      "max_pooling2d_6 (MaxPooling2 (None, 15, 15, 128)       0         \n",
      "_________________________________________________________________\n",
      "flatten_4 (Flatten)          (None, 28800)             0         \n",
      "_________________________________________________________________\n",
      "dense_10 (Dense)             (None, 256)               7373056   \n",
      "_________________________________________________________________\n",
      "dense_11 (Dense)             (None, 512)               131584    \n",
      "_________________________________________________________________\n",
      "dense_12 (Dense)             (None, 64)                32832     \n",
      "_________________________________________________________________\n",
      "dense_13 (Dense)             (None, 128)               8320      \n",
      "_________________________________________________________________\n",
      "dense_14 (Dense)             (None, 3)                 387       \n",
      "=================================================================\n",
      "Total params: 7,866,947\n",
      "Trainable params: 7,866,947\n",
      "Non-trainable params: 0\n",
      "_________________________________________________________________\n"
     ]
    }
   ],
   "source": [
    "better_model = models.Sequential()\n",
    "\n",
    "better_model.add(layers.Conv2D(32, (3, 3), activation='relu',\n",
    "                        input_shape=(150 ,150,  3)))\n",
    "better_model.add(layers.MaxPooling2D((2, 2)))\n",
    "\n",
    "better_model.add(layers.Conv2D(64, (4, 4), activation='relu'))\n",
    "better_model.add(layers.Conv2D(64, (4, 4), activation='relu'))\n",
    "better_model.add(layers.MaxPooling2D((2, 2)))\n",
    "\n",
    "better_model.add(layers.Conv2D(128, (3, 3), activation='relu'))\n",
    "better_model.add(layers.Conv2D(128, (3, 3), activation='relu'))\n",
    "better_model.add(layers.MaxPooling2D((2, 2)))\n",
    "\n",
    "\n",
    "better_model.add(layers.Flatten())\n",
    "better_model.add(layers.Dense(256, activation='relu'))\n",
    "better_model.add(layers.Dense(512, activation='relu'))\n",
    "better_model.add(layers.Dense(64, activation='relu'))\n",
    "better_model.add(layers.Dense(128, activation='relu'))\n",
    "better_model.add(layers.Dense(3, activation='softmax'))\n",
    "\n",
    "better_model.summary()"
   ]
  },
  {
   "cell_type": "code",
   "execution_count": 30,
   "metadata": {},
   "outputs": [],
   "source": [
    "checkpoints_path = 'better_cnn_weights.best.hdf5'\n",
    "checkpoint = ModelCheckpoint(checkpoints_path, monitor='val_loss', verbose=1, save_best_only=True, mode='min')"
   ]
  },
  {
   "cell_type": "code",
   "execution_count": 33,
   "metadata": {},
   "outputs": [
    {
     "name": "stdout",
     "output_type": "stream",
     "text": [
      "Epoch 1/20\n",
      "20/20 [==============================] - 27s 1s/step - loss: 1.0876 - acc: 0.4525 - val_loss: 1.0815 - val_acc: 0.4573\n",
      "\n",
      "Epoch 00001: val_loss improved from inf to 1.08145, saving model to better_cnn_weights.best.hdf5\n",
      "Epoch 2/20\n",
      "20/20 [==============================] - 25s 1s/step - loss: 1.0641 - acc: 0.4875 - val_loss: 1.0628 - val_acc: 0.5050\n",
      "\n",
      "Epoch 00002: val_loss improved from 1.08145 to 1.06277, saving model to better_cnn_weights.best.hdf5\n",
      "Epoch 3/20\n",
      "20/20 [==============================] - 26s 1s/step - loss: 1.0630 - acc: 0.4850 - val_loss: 1.0486 - val_acc: 0.4900\n",
      "\n",
      "Epoch 00003: val_loss improved from 1.06277 to 1.04865, saving model to better_cnn_weights.best.hdf5\n",
      "Epoch 4/20\n",
      "20/20 [==============================] - 26s 1s/step - loss: 1.0591 - acc: 0.4775 - val_loss: 1.0703 - val_acc: 0.4573\n",
      "\n",
      "Epoch 00004: val_loss did not improve from 1.04865\n",
      "Epoch 5/20\n",
      "20/20 [==============================] - 26s 1s/step - loss: 1.0789 - acc: 0.4450 - val_loss: 1.0301 - val_acc: 0.5300\n",
      "\n",
      "Epoch 00005: val_loss improved from 1.04865 to 1.03006, saving model to better_cnn_weights.best.hdf5\n",
      "Epoch 6/20\n",
      "20/20 [==============================] - 25s 1s/step - loss: 1.0581 - acc: 0.4907 - val_loss: 1.0817 - val_acc: 0.4250\n",
      "\n",
      "Epoch 00006: val_loss did not improve from 1.03006\n",
      "Epoch 7/20\n",
      "20/20 [==============================] - 26s 1s/step - loss: 1.0400 - acc: 0.5075 - val_loss: 1.0135 - val_acc: 0.5176\n",
      "\n",
      "Epoch 00007: val_loss improved from 1.03006 to 1.01346, saving model to better_cnn_weights.best.hdf5\n",
      "Epoch 8/20\n",
      "20/20 [==============================] - 25s 1s/step - loss: 1.0619 - acc: 0.4650 - val_loss: 0.9894 - val_acc: 0.5150\n",
      "\n",
      "Epoch 00008: val_loss improved from 1.01346 to 0.98941, saving model to better_cnn_weights.best.hdf5\n",
      "Epoch 9/20\n",
      "20/20 [==============================] - 26s 1s/step - loss: 1.0108 - acc: 0.5175 - val_loss: 0.9985 - val_acc: 0.5550\n",
      "\n",
      "Epoch 00009: val_loss did not improve from 0.98941\n",
      "Epoch 10/20\n",
      "20/20 [==============================] - 25s 1s/step - loss: 0.9169 - acc: 0.5925 - val_loss: 0.8327 - val_acc: 0.6533\n",
      "\n",
      "Epoch 00010: val_loss improved from 0.98941 to 0.83274, saving model to better_cnn_weights.best.hdf5\n",
      "Epoch 11/20\n",
      "20/20 [==============================] - 25s 1s/step - loss: 0.8334 - acc: 0.6275 - val_loss: 0.8972 - val_acc: 0.6000\n",
      "\n",
      "Epoch 00011: val_loss did not improve from 0.83274\n",
      "Epoch 12/20\n",
      "20/20 [==============================] - 26s 1s/step - loss: 0.9474 - acc: 0.5625 - val_loss: 0.8629 - val_acc: 0.5829\n",
      "\n",
      "Epoch 00012: val_loss did not improve from 0.83274\n",
      "Epoch 13/20\n",
      "20/20 [==============================] - 26s 1s/step - loss: 0.8157 - acc: 0.6475 - val_loss: 0.8854 - val_acc: 0.6500\n",
      "\n",
      "Epoch 00013: val_loss did not improve from 0.83274\n",
      "Epoch 14/20\n",
      "20/20 [==============================] - 26s 1s/step - loss: 0.8457 - acc: 0.6250 - val_loss: 0.8101 - val_acc: 0.6450\n",
      "\n",
      "Epoch 00014: val_loss improved from 0.83274 to 0.81014, saving model to better_cnn_weights.best.hdf5\n",
      "Epoch 15/20\n",
      "20/20 [==============================] - 26s 1s/step - loss: 0.8293 - acc: 0.6525 - val_loss: 0.7093 - val_acc: 0.6884\n",
      "\n",
      "Epoch 00015: val_loss improved from 0.81014 to 0.70932, saving model to better_cnn_weights.best.hdf5\n",
      "Epoch 16/20\n",
      "20/20 [==============================] - 26s 1s/step - loss: 0.7246 - acc: 0.6650 - val_loss: 0.6936 - val_acc: 0.6850\n",
      "\n",
      "Epoch 00016: val_loss improved from 0.70932 to 0.69360, saving model to better_cnn_weights.best.hdf5\n",
      "Epoch 17/20\n",
      "20/20 [==============================] - 26s 1s/step - loss: 0.6335 - acc: 0.7125 - val_loss: 0.7435 - val_acc: 0.6600\n",
      "\n",
      "Epoch 00017: val_loss did not improve from 0.69360\n",
      "Epoch 18/20\n",
      "20/20 [==============================] - 25s 1s/step - loss: 0.6245 - acc: 0.7159 - val_loss: 0.5756 - val_acc: 0.7588\n",
      "\n",
      "Epoch 00018: val_loss improved from 0.69360 to 0.57564, saving model to better_cnn_weights.best.hdf5\n",
      "Epoch 19/20\n",
      "20/20 [==============================] - 26s 1s/step - loss: 0.6050 - acc: 0.7375 - val_loss: 0.6701 - val_acc: 0.6900\n",
      "\n",
      "Epoch 00019: val_loss did not improve from 0.57564\n",
      "Epoch 20/20\n",
      "20/20 [==============================] - 26s 1s/step - loss: 0.6232 - acc: 0.7350 - val_loss: 0.7551 - val_acc: 0.7236\n",
      "\n",
      "Epoch 00020: val_loss did not improve from 0.57564\n"
     ]
    }
   ],
   "source": [
    "better_model.compile(loss='categorical_crossentropy',\n",
    "              optimizer='adam',\n",
    "              metrics=['acc'])\n",
    "\n",
    "better_history = better_model.fit_generator(\n",
    "              train_generator, \n",
    "              steps_per_epoch= 20,\n",
    "              epochs = 20,\n",
    "              validation_data = validation_generator,\n",
    "              validation_steps = 10,\n",
    "              callbacks = [checkpoint])"
   ]
  },
  {
   "cell_type": "code",
   "execution_count": 34,
   "metadata": {},
   "outputs": [
    {
     "data": {
      "image/png": "[encoded data removed]",
      "text/plain": [
       "<Figure size 432x288 with 1 Axes>"
      ]
     },
     "metadata": {
      "needs_background": "light"
     },
     "output_type": "display_data"
    },
    {
     "data": {
      "image/png": "[encoded data removed]",
      "text/plain": [
       "<Figure size 432x288 with 1 Axes>"
      ]
     },
     "metadata": {
      "needs_background": "light"
     },
     "output_type": "display_data"
    }
   ],
   "source": [
    "plot_acc_loss(better_history)"
   ]
  },
  {
   "cell_type": "code",
   "execution_count": 35,
   "metadata": {},
   "outputs": [
    {
     "name": "stdout",
     "output_type": "stream",
     "text": [
      "test acc: 0.6064049585545359\n"
     ]
    }
   ],
   "source": [
    "test_loss, test_acc = better_model.evaluate_generator(test_generator, steps=50)\n",
    "print('test acc:', test_acc)"
   ]
  },
  {
   "cell_type": "markdown",
   "metadata": {},
   "source": [
    "As the graphs suggest, there definitely a drop in loss after about 18 epochs. Therefore, using the best weights should yield substantially better accuracy."
   ]
  },
  {
   "cell_type": "code",
   "execution_count": 36,
   "metadata": {},
   "outputs": [
    {
     "name": "stdout",
     "output_type": "stream",
     "text": [
      "test acc: 0.65650405680261\n"
     ]
    }
   ],
   "source": [
    "#build the model again\n",
    "better_model = models.Sequential()\n",
    "\n",
    "better_model.add(layers.Conv2D(32, (3, 3), activation='relu',\n",
    "                        input_shape=(150 ,150,  3)))\n",
    "better_model.add(layers.MaxPooling2D((2, 2)))\n",
    "\n",
    "better_model.add(layers.Conv2D(64, (4, 4), activation='relu'))\n",
    "better_model.add(layers.Conv2D(64, (4, 4), activation='relu'))\n",
    "better_model.add(layers.MaxPooling2D((2, 2)))\n",
    "\n",
    "better_model.add(layers.Conv2D(128, (3, 3), activation='relu'))\n",
    "better_model.add(layers.Conv2D(128, (3, 3), activation='relu'))\n",
    "better_model.add(layers.MaxPooling2D((2, 2)))\n",
    "\n",
    "\n",
    "better_model.add(layers.Flatten())\n",
    "better_model.add(layers.Dense(256, activation='relu'))\n",
    "better_model.add(layers.Dense(512, activation='relu'))\n",
    "better_model.add(layers.Dense(64, activation='relu'))\n",
    "better_model.add(layers.Dense(128, activation='relu'))\n",
    "better_model.add(layers.Dense(3, activation='softmax'))\n",
    "\n",
    "#compile it again\n",
    "better_model.compile(loss='categorical_crossentropy',\n",
    "              optimizer='adam',\n",
    "              metrics=['acc'])\n",
    "\n",
    "#load weights\n",
    "better_model.load_weights('weights_base.best.hdf5')\n",
    "\n",
    "#evaluate the model\n",
    "test_loss, test_acc = better_model.evaluate_generator(test_generator, steps=50)\n",
    "print('test acc:', test_acc)"
   ]
  },
  {
   "cell_type": "markdown",
   "metadata": {},
   "source": [
    "As expected, accuracy jumped up to 65.6%,. However, this is surprisingly not better than our original model."
   ]
  },
  {
   "cell_type": "markdown",
   "metadata": {},
   "source": [
    "## Project Conclusion\n",
    "\n"
   ]
  },
  {
   "cell_type": "markdown",
   "metadata": {},
   "source": [
    "It is surprising that the best model attained was built from scratch instead of being based on a pretained model. There might be two reasons for this. First,the VGG19 base is more optimized for color images, which has more defined edges and rgb values. The fact that the pretrained model's accuracy went down substantially when a model was built without freezing the base also supports this fact. This also extends to the fact that fine-tuning dropped the model's accuracy down substantially as well. \n",
    "\n",
    "\n",
    "Second, \n",
    "The overall best accuracy rate of 75% is not bad at more than double chance level but remains far from applicable in a medical setting."
   ]
  },
  {
   "cell_type": "markdown",
   "metadata": {},
   "source": [
    "## Further Considerations\n",
    "*Reflections and future project considerations*\n",
    "\n",
    "### Reflections\n",
    "    - Streamline model compilation, fit, and accuracy score with functions and use pipelines for more efficiency.\n",
    "    - Test pipeline with a simple model first and compile, fit, and evaluate all other models overnight to save time.\n",
    "    - Streamline randomness of keras models to have reproducible results.\n",
    "    - Incorporate image augmentation to feed the model more data.\n",
    "\n",
    "### Future Projects\n",
    "    - Create a model capable of image classification for all 5 types of pneumonia\n",
    "    - Try more basic models that are less computationally expensive for comparison\n",
    "    - Buffer image data with additional data (e.g. from lab tests)\n",
    "    - Construct additional image classification models for other tests such as fMRI and CAT. \n",
    "    - Use different pretrained models as the base such as Inception, MobileNet, Resnet, etc.\n",
    "    - Explore unsupervised models for image classification"
   ]
  },
  {
   "cell_type": "markdown",
   "metadata": {},
   "source": [
    "# Project Summary\n",
    "\n",
    "## 1. Obtaining and Preprocessing Data\n",
    "\n",
    ">**A**. Data obtained from kaggle and data in training, validation, and testing directories were reorganized to contain 3 subdirectors-- normal, bacteria, and virus.\n",
    "\n",
    ">**B**. Allocate about 10% of training data to validation directory, since validation data was lacking.\n",
    "\n",
    "## 2. Image Classification Modeling with CNNs\n",
    "*Note: All models utilized an Adam optimizer, 20 epochs, softmax activation, and accuracy as the metric. All models relying on pretained data used VGG19 as the base model*\n",
    "\n",
    ">__A.__ Basic CNN (9 layers): Alternation between Conv2D and pooling layers with 2 dense layers. Overall accuracy with test data is **75.7**%\n",
    "\n",
    ">__B__. Pretrained Model (weights unfrozen) with 5 dense layers: Overall accuracy of **23.4%**. This is the worst attained accuracy and most likely the result of the model changing the weights of the pretrained model. \n",
    "\n",
    ">__C__. Pretrained Model with Feature Extraction: Overall accuracy of **67%.**\n",
    "\n",
    ">__D__. Pretrained Model with Feature Extraction Using Freezing w/ Model Checkpoint: Accuracy of **65%** after 20 epochs. Accuracy improved to 71.5% when using the best weights.\n",
    "\n",
    ">__E__. Pretrained Model w/ Freezing and Fine-Tuning (of last 5 layers): Accuracy of **25.6%**. This is most likely due to the model changing too many weights that were essential to the original model, which follows the pattern of model B.\n",
    "\n",
    ">__F__. Original Model w/ 14 layers & Model Checkpoint: Accuracy of **65.6%** with best weights checkpoint. \n",
    "\n",
    "## 3. Conclusion\n",
    "\n",
    "> The best model for image classification was actually the simplest model at **75.7% accuracy** with the pretrained model with feature extraction coming in second. However, this difference is not significant enough to rule out the randomness of keras modeling. Conversely, **not freezing** weights had a significant, detrimental impact on accuracy. This was still true with fine-tuning, which meant that letting the model adjust the weights of the pretrained base layer decreased the overall accuracy of the model. This could be because VGG19 is already optimized, so changing its weights compromised its accuracy. "
   ]
  }
 ],
 "metadata": {
  "kernelspec": {
   "display_name": "Python 3",
   "language": "python",
   "name": "python3"
  },
  "language_info": {
   "codemirror_mode": {
    "name": "ipython",
    "version": 3
   },
   "file_extension": ".py",
   "mimetype": "text/x-python",
   "name": "python",
   "nbconvert_exporter": "python",
   "pygments_lexer": "ipython3",
   "version": "3.7.1"
  }
 },
 "nbformat": 4,
 "nbformat_minor": 2
}
